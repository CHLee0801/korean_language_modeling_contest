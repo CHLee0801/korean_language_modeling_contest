{
 "cells": [
  {
   "cell_type": "code",
   "execution_count": 1,
   "metadata": {},
   "outputs": [],
   "source": [
    "import pandas as pd\n",
    "import numpy as np\n",
    "import seaborn as sns\n",
    "import json\n",
    "import matplotlib.pyplot as plt\n",
    "\n",
    "from tqdm import tqdm\n",
    "from collections import defaultdict"
   ]
  },
  {
   "cell_type": "code",
   "execution_count": 2,
   "metadata": {},
   "outputs": [
    {
     "name": "stderr",
     "output_type": "stream",
     "text": [
      "/tmp/ipykernel_3114/703292248.py:6: MatplotlibDeprecationWarning: \n",
      "The get_fontconfig_fonts function was deprecated in Matplotlib 3.5 and will be removed two minor releases later.\n",
      "  fm.get_fontconfig_fonts()\n"
     ]
    }
   ],
   "source": [
    "from matplotlib import rc\n",
    "import matplotlib.font_manager as fm\n",
    "import matplotlib\n",
    "\n",
    "# 한글깨짐\n",
    "fm.get_fontconfig_fonts()\n",
    "font_location = '/usr/share/fonts/truetype/nanum/NanumGothicCoding.ttf'\n",
    "\n",
    "font_name = fm.FontProperties(fname=font_location).get_name()\n",
    "matplotlib.rc('font', family=font_name)"
   ]
  },
  {
   "cell_type": "code",
   "execution_count": 3,
   "metadata": {},
   "outputs": [
    {
     "data": {
      "text/plain": [
       "'\\n    총 aspect : 25개\\n    제품 전체 : 품질, 디자인, 편의성, 일반, 가격, 다양성, 인지도 (7개)\\n    패키지/구성품 : 디자인, 다양성, 일반, 편의성, 품질, 가격 (6개)\\n    본품 : 일반, 다양성, 품질, 인지도, 편의성, 디자인, 가격 (7개)\\n    브랜드 : 일반, 인지도, 디자인, 품질, 가격 (5개)\\n\\n    sentiment : negative, netural, positive (3개)\\n'"
      ]
     },
     "execution_count": 3,
     "metadata": {},
     "output_type": "execute_result"
    }
   ],
   "source": [
    "\"\"\"\n",
    "    총 aspect : 25개\n",
    "    제품 전체 : 품질, 디자인, 편의성, 일반, 가격, 다양성, 인지도 (7개)\n",
    "    패키지/구성품 : 디자인, 다양성, 일반, 편의성, 품질, 가격 (6개)\n",
    "    본품 : 일반, 다양성, 품질, 인지도, 편의성, 디자인, 가격 (7개)\n",
    "    브랜드 : 일반, 인지도, 디자인, 품질, 가격 (5개)\n",
    "\n",
    "    sentiment : negative, netural, positive (3개)\n",
    "\"\"\""
   ]
  },
  {
   "cell_type": "code",
   "execution_count": 32,
   "metadata": {},
   "outputs": [
    {
     "name": "stdout",
     "output_type": "stream",
     "text": [
      "{'본품#일반': 0, '제품 전체#가격': 1, '제품 전체#편의성': 2, '제품 전체#디자인': 3, '패키지/구성품#일반': 4, '패키지/구성품#편의성': 5, '제품 전체#품질': 6, '브랜드#가격': 7, '본품#편의성': 8, '본품#디자인': 9, '브랜드#일반': 10, '브랜드#품질': 11, '제품 전체#인지도': 12, '패키지/구성품#디자인': 13, '본품#다양성': 14, '패키지/구성품#품질': 15, '패키지/구성품#다양성': 16, '브랜드#인지도': 17, '본품#가격': 18, '본품#인지도': 19, '패키지/구성품#가격': 20}\n"
     ]
    }
   ],
   "source": [
    "TOTAL_ASPECT= ['본품#품질', '제품 전체#일반', '본품#일반', '제품 전체#가격', '제품 전체#편의성', '제품 전체#디자인',\n",
    "       '패키지/구성품#일반', '패키지/구성품#편의성', '제품 전체#품질', '브랜드#가격', '본품#편의성',\n",
    "       '본품#디자인', '브랜드#일반', '브랜드#품질', '제품 전체#인지도', '패키지/구성품#디자인', '본품#다양성',\n",
    "       '패키지/구성품#품질', '패키지/구성품#다양성', '브랜드#인지도', '본품#가격', '본품#인지도']\n",
    "\n",
    "# 본품#품질', '제품 전체#일반' 제외\n",
    "STAGE2_ASPECT= ['본품#일반', '제품 전체#가격', '제품 전체#편의성', '제품 전체#디자인',\n",
    "       '패키지/구성품#일반', '패키지/구성품#편의성', '제품 전체#품질', '브랜드#가격', '본품#편의성',\n",
    "       '본품#디자인', '브랜드#일반', '브랜드#품질', '제품 전체#인지도', '패키지/구성품#디자인', '본품#다양성',\n",
    "       '패키지/구성품#품질', '패키지/구성품#다양성', '브랜드#인지도', '본품#가격', '본품#인지도', '패키지/구성품#가격']\n",
    "# train에는 패키지/구성품#가격 없는데 dev에는 있는..\n",
    "\n",
    "\n",
    "SENTIMENT= ['negative', 'positive', 'neutral']\n",
    "\n",
    "\n",
    "stage1_aspect_dict= {'본품#품질': 0, '제품 전체#일반': 1, 'OTHERS': 2}\n",
    "\n",
    "stage2_num_to_aspect_dict= {idx:value for idx, value in enumerate(STAGE2_ASPECT)}\n",
    "stage2_aspect_to_num_dict= {value:idx for idx, value in enumerate(STAGE2_ASPECT)}\n",
    "print(stage2_aspect_to_num_dict)\n",
    "\n",
    "stage1_sentiment_dict= {'positive': 0, 'OTHERS': 1}\n",
    "stage2_sentiment_dict= {'negative': 0, 'neutral': 1}\n",
    "\n",
    "\n",
    "\n",
    "\n"
   ]
  },
  {
   "cell_type": "code",
   "execution_count": 25,
   "metadata": {},
   "outputs": [],
   "source": [
    "TRAIN_DATA_PATH= './data/nikluge-sa-2022-train.jsonl'\n",
    "DEV_DATA_PATH= './data/nikluge-sa-2022-dev.jsonl'\n",
    "TEST_DATA_PATH= './data/nikluge-sa-2022-test.jsonl'"
   ]
  },
  {
   "cell_type": "code",
   "execution_count": 26,
   "metadata": {},
   "outputs": [],
   "source": [
    "def read_jsonl(path):\n",
    "    data= []\n",
    "    with open(path, 'r') as f:\n",
    "        for i, line in tqdm(enumerate(f)):\n",
    "            data.append(json.loads(line))\n",
    "    \n",
    "    return data"
   ]
  },
  {
   "cell_type": "code",
   "execution_count": 27,
   "metadata": {},
   "outputs": [
    {
     "name": "stderr",
     "output_type": "stream",
     "text": [
      "3001it [00:00, 135909.33it/s]\n",
      "2794it [00:00, 145244.23it/s]\n",
      "2127it [00:00, 179538.83it/s]\n"
     ]
    }
   ],
   "source": [
    "trainset= read_jsonl(TRAIN_DATA_PATH)\n",
    "devset= read_jsonl(DEV_DATA_PATH)\n",
    "testset= read_jsonl(TEST_DATA_PATH)"
   ]
  },
  {
   "cell_type": "code",
   "execution_count": 33,
   "metadata": {},
   "outputs": [],
   "source": [
    "def convert_jsonl_to_df(jsonl_data):\n",
    "    multi_label_count_dict= defaultdict(lambda: 0)\n",
    "    data_dict= defaultdict(list)\n",
    "    for js_data in tqdm(jsonl_data):\n",
    "        id, sentence, annotation= js_data['id'], js_data['sentence_form'], js_data['annotation']\n",
    "        \n",
    "        for annot in annotation:\n",
    "            tmp_aspect, _, sentiment= annot\n",
    "            aspect_1, aspect_2= tmp_aspect.split('#')\n",
    "            \n",
    "            data_dict['id'].append(id)\n",
    "            data_dict['sentence'].append(sentence)\n",
    "            data_dict['aspect_1'].append(aspect_1)\n",
    "            data_dict['aspect_2'].append(aspect_2)\n",
    "            data_dict['aspect_concat'].append(tmp_aspect)\n",
    "            data_dict['sentiment'].append(sentiment)\n",
    "\n",
    "            # for aspect stage1\n",
    "            label_aspect_1= -1\n",
    "            if tmp_aspect == '본품#품질':\n",
    "                label_aspect_1= 0\n",
    "            elif tmp_aspect == '제품 전체#일반':\n",
    "                label_aspect_1= 1\n",
    "            else:\n",
    "                label_aspect_1= 2\n",
    "            data_dict['label_aspect_1'].append(label_aspect_1)\n",
    "\n",
    "            # for aspect stage2\n",
    "            label_aspect_2= -1\n",
    "            if label_aspect_1== 2:\n",
    "                label_aspect_2= stage2_aspect_to_num_dict[tmp_aspect]\n",
    "            # 본품#품질 / 제품 전체#일은 skip\n",
    "            data_dict['label_aspect_2'].append(label_aspect_2)\n",
    "\n",
    "            # for sentiment stage1\n",
    "            label_sentiment_1= -1\n",
    "            if sentiment== 'positive':\n",
    "                label_sentiment_1= 0\n",
    "            else:\n",
    "                label_sentiment_1= 1\n",
    "            data_dict['label_sentiment_1'].append(label_sentiment_1)\n",
    "            \n",
    "            # for sentiment stage2\n",
    "            label_sentiment_2= -1\n",
    "            if label_sentiment_1== 1:\n",
    "                label_sentiment_2= stage2_sentiment_dict[sentiment]\n",
    "            data_dict['label_sentiment_2'].append(label_sentiment_2)\n",
    "                \n",
    "    return pd.DataFrame(data_dict)\n",
    "\n"
   ]
  },
  {
   "cell_type": "code",
   "execution_count": 39,
   "metadata": {},
   "outputs": [
    {
     "name": "stderr",
     "output_type": "stream",
     "text": [
      "100%|██████████| 3001/3001 [00:00<00:00, 445671.72it/s]\n",
      "100%|██████████| 2794/2794 [00:00<00:00, 444099.04it/s]\n"
     ]
    },
    {
     "data": {
      "text/html": [
       "<div>\n",
       "<style scoped>\n",
       "    .dataframe tbody tr th:only-of-type {\n",
       "        vertical-align: middle;\n",
       "    }\n",
       "\n",
       "    .dataframe tbody tr th {\n",
       "        vertical-align: top;\n",
       "    }\n",
       "\n",
       "    .dataframe thead th {\n",
       "        text-align: right;\n",
       "    }\n",
       "</style>\n",
       "<table border=\"1\" class=\"dataframe\">\n",
       "  <thead>\n",
       "    <tr style=\"text-align: right;\">\n",
       "      <th></th>\n",
       "      <th>id</th>\n",
       "      <th>sentence</th>\n",
       "      <th>aspect_1</th>\n",
       "      <th>aspect_2</th>\n",
       "      <th>aspect_concat</th>\n",
       "      <th>sentiment</th>\n",
       "      <th>label_aspect_1</th>\n",
       "      <th>label_aspect_2</th>\n",
       "      <th>label_sentiment_1</th>\n",
       "      <th>label_sentiment_2</th>\n",
       "    </tr>\n",
       "  </thead>\n",
       "  <tbody>\n",
       "    <tr>\n",
       "      <th>0</th>\n",
       "      <td>nikluge-sa-2022-dev-00001</td>\n",
       "      <td>깔끔하게 부직포 포장으로 되어 있어서 그냥 뜨거운 물에 풍덩 넣어놓고 좀 휘젓어주면...</td>\n",
       "      <td>본품</td>\n",
       "      <td>편의성</td>\n",
       "      <td>본품#편의성</td>\n",
       "      <td>positive</td>\n",
       "      <td>2</td>\n",
       "      <td>8</td>\n",
       "      <td>0</td>\n",
       "      <td>-1</td>\n",
       "    </tr>\n",
       "    <tr>\n",
       "      <th>1</th>\n",
       "      <td>nikluge-sa-2022-dev-00002</td>\n",
       "      <td>목욕할 때마다 넣어봤는데(샤워는 자주 해도 목욕은 그렇게 자주가 아님.. 이것도 약...</td>\n",
       "      <td>본품</td>\n",
       "      <td>일반</td>\n",
       "      <td>본품#일반</td>\n",
       "      <td>positive</td>\n",
       "      <td>2</td>\n",
       "      <td>0</td>\n",
       "      <td>0</td>\n",
       "      <td>-1</td>\n",
       "    </tr>\n",
       "    <tr>\n",
       "      <th>2</th>\n",
       "      <td>nikluge-sa-2022-dev-00003</td>\n",
       "      <td>혹시 오래된 거 팔지 않나 고민했었는데 쑥향기 자체가 페퍼민트처럼 신선하고 포장도 ...</td>\n",
       "      <td>본품</td>\n",
       "      <td>일반</td>\n",
       "      <td>본품#일반</td>\n",
       "      <td>positive</td>\n",
       "      <td>2</td>\n",
       "      <td>0</td>\n",
       "      <td>0</td>\n",
       "      <td>-1</td>\n",
       "    </tr>\n",
       "    <tr>\n",
       "      <th>3</th>\n",
       "      <td>nikluge-sa-2022-dev-00003</td>\n",
       "      <td>혹시 오래된 거 팔지 않나 고민했었는데 쑥향기 자체가 페퍼민트처럼 신선하고 포장도 ...</td>\n",
       "      <td>패키지/구성품</td>\n",
       "      <td>디자인</td>\n",
       "      <td>패키지/구성품#디자인</td>\n",
       "      <td>positive</td>\n",
       "      <td>2</td>\n",
       "      <td>13</td>\n",
       "      <td>0</td>\n",
       "      <td>-1</td>\n",
       "    </tr>\n",
       "    <tr>\n",
       "      <th>4</th>\n",
       "      <td>nikluge-sa-2022-dev-00004</td>\n",
       "      <td>전에는 목욕할 때 입욕제 넣고 하는 거 좋아하지 않았는데 한약재로 바꿔보니 약용까지...</td>\n",
       "      <td>제품 전체</td>\n",
       "      <td>품질</td>\n",
       "      <td>제품 전체#품질</td>\n",
       "      <td>positive</td>\n",
       "      <td>2</td>\n",
       "      <td>6</td>\n",
       "      <td>0</td>\n",
       "      <td>-1</td>\n",
       "    </tr>\n",
       "  </tbody>\n",
       "</table>\n",
       "</div>"
      ],
      "text/plain": [
       "                          id  \\\n",
       "0  nikluge-sa-2022-dev-00001   \n",
       "1  nikluge-sa-2022-dev-00002   \n",
       "2  nikluge-sa-2022-dev-00003   \n",
       "3  nikluge-sa-2022-dev-00003   \n",
       "4  nikluge-sa-2022-dev-00004   \n",
       "\n",
       "                                            sentence aspect_1 aspect_2  \\\n",
       "0  깔끔하게 부직포 포장으로 되어 있어서 그냥 뜨거운 물에 풍덩 넣어놓고 좀 휘젓어주면...       본품      편의성   \n",
       "1  목욕할 때마다 넣어봤는데(샤워는 자주 해도 목욕은 그렇게 자주가 아님.. 이것도 약...       본품       일반   \n",
       "2  혹시 오래된 거 팔지 않나 고민했었는데 쑥향기 자체가 페퍼민트처럼 신선하고 포장도 ...       본품       일반   \n",
       "3  혹시 오래된 거 팔지 않나 고민했었는데 쑥향기 자체가 페퍼민트처럼 신선하고 포장도 ...  패키지/구성품      디자인   \n",
       "4  전에는 목욕할 때 입욕제 넣고 하는 거 좋아하지 않았는데 한약재로 바꿔보니 약용까지...    제품 전체       품질   \n",
       "\n",
       "  aspect_concat sentiment  label_aspect_1  label_aspect_2  label_sentiment_1  \\\n",
       "0        본품#편의성  positive               2               8                  0   \n",
       "1         본품#일반  positive               2               0                  0   \n",
       "2         본품#일반  positive               2               0                  0   \n",
       "3   패키지/구성품#디자인  positive               2              13                  0   \n",
       "4      제품 전체#품질  positive               2               6                  0   \n",
       "\n",
       "   label_sentiment_2  \n",
       "0                 -1  \n",
       "1                 -1  \n",
       "2                 -1  \n",
       "3                 -1  \n",
       "4                 -1  "
      ]
     },
     "execution_count": 39,
     "metadata": {},
     "output_type": "execute_result"
    }
   ],
   "source": [
    "train_df= convert_jsonl_to_df(trainset) \n",
    "dev_df= convert_jsonl_to_df(devset)\n",
    "dev_df.head()"
   ]
  },
  {
   "cell_type": "code",
   "execution_count": 38,
   "metadata": {},
   "outputs": [
    {
     "data": {
      "text/html": [
       "<div>\n",
       "<style scoped>\n",
       "    .dataframe tbody tr th:only-of-type {\n",
       "        vertical-align: middle;\n",
       "    }\n",
       "\n",
       "    .dataframe tbody tr th {\n",
       "        vertical-align: top;\n",
       "    }\n",
       "\n",
       "    .dataframe thead th {\n",
       "        text-align: right;\n",
       "    }\n",
       "</style>\n",
       "<table border=\"1\" class=\"dataframe\">\n",
       "  <thead>\n",
       "    <tr style=\"text-align: right;\">\n",
       "      <th></th>\n",
       "      <th>id</th>\n",
       "      <th>sentence</th>\n",
       "      <th>aspect_1</th>\n",
       "      <th>aspect_2</th>\n",
       "      <th>aspect_concat</th>\n",
       "      <th>sentiment</th>\n",
       "      <th>label_aspect_1</th>\n",
       "      <th>label_aspect_2</th>\n",
       "      <th>label_sentiment_1</th>\n",
       "    </tr>\n",
       "    <tr>\n",
       "      <th>label_sentiment_2</th>\n",
       "      <th></th>\n",
       "      <th></th>\n",
       "      <th></th>\n",
       "      <th></th>\n",
       "      <th></th>\n",
       "      <th></th>\n",
       "      <th></th>\n",
       "      <th></th>\n",
       "      <th></th>\n",
       "    </tr>\n",
       "  </thead>\n",
       "  <tbody>\n",
       "    <tr>\n",
       "      <th>-1</th>\n",
       "      <td>3102</td>\n",
       "      <td>3102</td>\n",
       "      <td>3102</td>\n",
       "      <td>3102</td>\n",
       "      <td>3102</td>\n",
       "      <td>3102</td>\n",
       "      <td>3102</td>\n",
       "      <td>3102</td>\n",
       "      <td>3102</td>\n",
       "    </tr>\n",
       "    <tr>\n",
       "      <th>0</th>\n",
       "      <td>58</td>\n",
       "      <td>58</td>\n",
       "      <td>58</td>\n",
       "      <td>58</td>\n",
       "      <td>58</td>\n",
       "      <td>58</td>\n",
       "      <td>58</td>\n",
       "      <td>58</td>\n",
       "      <td>58</td>\n",
       "    </tr>\n",
       "    <tr>\n",
       "      <th>1</th>\n",
       "      <td>95</td>\n",
       "      <td>95</td>\n",
       "      <td>95</td>\n",
       "      <td>95</td>\n",
       "      <td>95</td>\n",
       "      <td>95</td>\n",
       "      <td>95</td>\n",
       "      <td>95</td>\n",
       "      <td>95</td>\n",
       "    </tr>\n",
       "  </tbody>\n",
       "</table>\n",
       "</div>"
      ],
      "text/plain": [
       "                     id  sentence  aspect_1  aspect_2  aspect_concat  \\\n",
       "label_sentiment_2                                                      \n",
       "-1                 3102      3102      3102      3102           3102   \n",
       " 0                   58        58        58        58             58   \n",
       " 1                   95        95        95        95             95   \n",
       "\n",
       "                   sentiment  label_aspect_1  label_aspect_2  \\\n",
       "label_sentiment_2                                              \n",
       "-1                      3102            3102            3102   \n",
       " 0                        58              58              58   \n",
       " 1                        95              95              95   \n",
       "\n",
       "                   label_sentiment_1  \n",
       "label_sentiment_2                     \n",
       "-1                              3102  \n",
       " 0                                58  \n",
       " 1                                95  "
      ]
     },
     "execution_count": 38,
     "metadata": {},
     "output_type": "execute_result"
    }
   ],
   "source": [
    "train_df.groupby('label_sentiment_2').count()"
   ]
  },
  {
   "cell_type": "code",
   "execution_count": 31,
   "metadata": {},
   "outputs": [
    {
     "data": {
      "text/plain": [
       "array(['negative', 'positive', 'neutral'], dtype=object)"
      ]
     },
     "execution_count": 31,
     "metadata": {},
     "output_type": "execute_result"
    }
   ],
   "source": [
    "train_df['aspect_concat'].unique()\n",
    "train_df['sentiment'].unique()"
   ]
  },
  {
   "cell_type": "code",
   "execution_count": 40,
   "metadata": {},
   "outputs": [],
   "source": [
    "train_df.to_csv('./data/process_train.csv', index= False)\n",
    "dev_df.to_csv('./data/process_dev.csv', index= False)"
   ]
  }
 ],
 "metadata": {
  "kernelspec": {
   "display_name": "Python 3.9.7 ('base')",
   "language": "python",
   "name": "python3"
  },
  "language_info": {
   "codemirror_mode": {
    "name": "ipython",
    "version": 3
   },
   "file_extension": ".py",
   "mimetype": "text/x-python",
   "name": "python",
   "nbconvert_exporter": "python",
   "pygments_lexer": "ipython3",
   "version": "3.9.7"
  },
  "orig_nbformat": 4,
  "vscode": {
   "interpreter": {
    "hash": "caf1c2fcf97217de91eafa76b907d50f9ea378f5ffbee7f571142d119bb6a771"
   }
  }
 },
 "nbformat": 4,
 "nbformat_minor": 2
}

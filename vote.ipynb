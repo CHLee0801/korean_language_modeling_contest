{
 "cells": [
  {
   "cell_type": "code",
   "execution_count": 1,
   "metadata": {},
   "outputs": [],
   "source": [
    "import json\n",
    "import os\n",
    "from collections import defaultdict\n",
    "from tqdm import tqdm\n"
   ]
  },
  {
   "cell_type": "code",
   "execution_count": 2,
   "metadata": {},
   "outputs": [
    {
     "name": "stderr",
     "output_type": "stream",
     "text": [
      "5it [00:00, 56.07it/s]\n"
     ]
    }
   ],
   "source": [
    "\n",
    "DATA_DIR= './output_fold'\n",
    "file_path= [os.path.join(DATA_DIR, path) for path in os.listdir(DATA_DIR)]\n",
    "\n",
    "vote_dict= defaultdict(dict)\n",
    "org_data= []\n",
    "for idx, file in tqdm(enumerate(file_path)):\n",
    "  with open(file, 'r') as f:\n",
    "    for i, line in enumerate(f):\n",
    "      line= json.loads(line)\n",
    "      id, sentence, annotation= line['id'], line['sentence_form'], line['annotation']\n",
    "\n",
    "      if idx==0:\n",
    "        vote_dict[id]['aspect']= defaultdict(lambda: 0)\n",
    "        vote_dict[id]['sentiment']= defaultdict(lambda: 0)\n",
    "        org_data.append(line)\n",
    "      \n",
    "      vote_dict[id]['sentence_form']= sentence\n",
    "      \n",
    "      for annot in annotation:\n",
    "        vote_dict[id]['aspect'][annot[0]]+=1\n",
    "        vote_dict[id]['sentiment'][annot[1]]+=1\n",
    "  "
   ]
  },
  {
   "cell_type": "code",
   "execution_count": 3,
   "metadata": {},
   "outputs": [
    {
     "name": "stdout",
     "output_type": "stream",
     "text": [
      "2127\n"
     ]
    }
   ],
   "source": [
    "print(len(vote_dict.keys()))"
   ]
  },
  {
   "cell_type": "code",
   "execution_count": 4,
   "metadata": {},
   "outputs": [],
   "source": [
    "keys= list(vote_dict.keys())\n",
    "vote_dict[keys[0]]\n",
    "\n",
    "ASPECT_THRESHOLD= 2\n",
    "SENTIMENT_THRESHOLD= 3\n",
    "\n",
    "submission= []\n",
    "\n",
    "annot_dict= defaultdict(lambda : 0)\n",
    "with open('./data/nikluge-sa-2022-test.jsonl', 'r') as f:\n",
    "  for i, line in enumerate(f):\n",
    "    line= json.loads(line)\n",
    "    id, sentence, annotation= line['id'], line['sentence_form'], line['annotation']\n",
    "\n",
    "    example= vote_dict[id]\n",
    "    aspect_candidate= []\n",
    "    sentiment_candidate= []\n",
    "    use_sentiment= ''\n",
    "\n",
    "    annot= []\n",
    "\n",
    "    max_aspect_value= 0\n",
    "    for k, v in (example['aspect'].items()):\n",
    "      if max_aspect_value < v:\n",
    "        max_aspect_value= v\n",
    "      \n",
    "    max_sentiment_value= 0\n",
    "    for k, v in example['sentiment'].items():\n",
    "      if max_sentiment_value < v:\n",
    "        max_sentiment_value= v\n",
    "      \n",
    "    # print(max_aspect_value, ASPECT_THRESHOLD)\n",
    "    for k, v in example['aspect'].items():\n",
    "      if v >= min(max_aspect_value, ASPECT_THRESHOLD):\n",
    "        aspect_candidate.append((k, v))\n",
    "    \n",
    "    for k, v in (example['sentiment'].items()):\n",
    "      if v >= min(max_sentiment_value, SENTIMENT_THRESHOLD):\n",
    "        sentiment_candidate.append((k, v))\n",
    "      \n",
    "      if v == max_sentiment_value:\n",
    "        use_sentiment= k\n",
    "        break;\n",
    "    \n",
    "    for k, v in aspect_candidate:\n",
    "      annot.append([k, use_sentiment])\n",
    "    \n",
    "    annot_dict[len(annot)]+=1\n",
    "\n",
    "    submission.append({'id': id, 'sentence_form': sentence, 'annotation': annot})\n",
    "\n",
    "outputfile_name= './submission_final.jsonl'\n",
    "with open(outputfile_name , encoding= \"utf-8\" ,mode=\"w\") as file: \n",
    "    for i in submission: \n",
    "        file.write(json.dumps(i,ensure_ascii=False) + \"\\n\")\n",
    "  \n"
   ]
  }
 ],
 "metadata": {
  "kernelspec": {
   "display_name": "Python 3.9.7 ('base')",
   "language": "python",
   "name": "python3"
  },
  "language_info": {
   "codemirror_mode": {
    "name": "ipython",
    "version": 3
   },
   "file_extension": ".py",
   "mimetype": "text/x-python",
   "name": "python",
   "nbconvert_exporter": "python",
   "pygments_lexer": "ipython3",
   "version": "3.9.7"
  },
  "orig_nbformat": 4,
  "vscode": {
   "interpreter": {
    "hash": "caf1c2fcf97217de91eafa76b907d50f9ea378f5ffbee7f571142d119bb6a771"
   }
  }
 },
 "nbformat": 4,
 "nbformat_minor": 2
}

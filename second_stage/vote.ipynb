{
 "cells": [
  {
   "cell_type": "code",
   "execution_count": 178,
   "metadata": {},
   "outputs": [],
   "source": [
    "import json\n",
    "import os\n",
    "from collections import defaultdict\n",
    "\n",
    "from tqdm import tqdm\n"
   ]
  },
  {
   "cell_type": "code",
   "execution_count": 179,
   "metadata": {},
   "outputs": [
    {
     "name": "stderr",
     "output_type": "stream",
     "text": [
      "5it [00:00, 68.98it/s]\n"
     ]
    }
   ],
   "source": [
    "\n",
    "DATA_DIR= './output_fold'\n",
    "file_path= [os.path.join(DATA_DIR, path) for path in os.listdir(DATA_DIR)]\n",
    "\n",
    "vote_dict= defaultdict(dict)\n",
    "org_data= []\n",
    "for idx, file in tqdm(enumerate(file_path)):\n",
    "  with open(file, 'r') as f:\n",
    "    for i, line in enumerate(f):\n",
    "      line= json.loads(line)\n",
    "      id, sentence, annotation= line['id'], line['sentence_form'], line['annotation']\n",
    "\n",
    "\n",
    "      if idx==0:\n",
    "        vote_dict[id]['aspect']= defaultdict(lambda: 0)\n",
    "        vote_dict[id]['sentiment']= defaultdict(lambda: 0)\n",
    "        org_data.append(line)\n",
    "      vote_dict[id]['sentence_form']= sentence\n",
    "      \n",
    "      for annot in annotation:\n",
    "        big, small= annot[0].split('#')\n",
    "        \n",
    "        if big =='본품':\n",
    "          vote_dict[id]['aspect'][annot[0]] += 0.6 * 1\n",
    "        # elif big== '패키지/구성품':\n",
    "        #   vote_dict[id]['aspect'][annot[0]] += 0.6 * 1\n",
    "        elif big == '브랜드':\n",
    "          vote_dict[id]['aspect'][annot[0]] += 100 * 1\n",
    "        else:\n",
    "          vote_dict[id]['aspect'][annot[0]] += 1\n",
    "\n",
    "        if small == '다양성':\n",
    "          vote_dict[id]['aspect'][annot[0]] += 100 * 1\n",
    "        # elif small == '품질':\n",
    "          # vote_dict[id]['aspect'][annot[0]] += 0.9 * 1\n",
    "        # elif small == '일반':\n",
    "        #   vote_dict[id]['aspect'][annot[0]] += 1.1 * 1\n",
    "        \n",
    "        if annot[1] == 'neutral':\n",
    "          vote_dict[id]['sentiment'][annot[1]] += 2* 1  \n",
    "        else:\n",
    "          vote_dict[id]['sentiment'][annot[1]] +=1\n",
    "        \n",
    "        \n",
    "        \n",
    "  "
   ]
  },
  {
   "cell_type": "code",
   "execution_count": 180,
   "metadata": {},
   "outputs": [
    {
     "name": "stdout",
     "output_type": "stream",
     "text": [
      "2127\n"
     ]
    }
   ],
   "source": [
    "print(len(vote_dict.keys()))"
   ]
  },
  {
   "cell_type": "code",
   "execution_count": 181,
   "metadata": {},
   "outputs": [
    {
     "data": {
      "text/plain": [
       "{'aspect': defaultdict(<function __main__.<lambda>()>,\n",
       "             {'제품 전체#일반': 4, '제품 전체#디자인': 1}),\n",
       " 'sentiment': defaultdict(<function __main__.<lambda>()>, {'positive': 5}),\n",
       " 'sentence_form': '하나 사려고 알아보는 중인데 맘에드는거 발견'}"
      ]
     },
     "execution_count": 181,
     "metadata": {},
     "output_type": "execute_result"
    }
   ],
   "source": [
    "keys= list(vote_dict.keys())\n",
    "vote_dict[keys[0]]"
   ]
  }
 ],
 "metadata": {
  "kernelspec": {
   "display_name": "Python 3.6.9 64-bit",
   "language": "python",
   "name": "python3"
  },
  "language_info": {
   "codemirror_mode": {
    "name": "ipython",
    "version": 3
   },
   "file_extension": ".py",
   "mimetype": "text/x-python",
   "name": "python",
   "nbconvert_exporter": "python",
   "pygments_lexer": "ipython3",
   "version": "3.6.9"
  },
  "orig_nbformat": 4,
  "vscode": {
   "interpreter": {
    "hash": "31f2aee4e71d21fbe5cf8b01ff0e069b9275f58929596ceb00d14d90e3e16cd6"
   }
  }
 },
 "nbformat": 4,
 "nbformat_minor": 2
}
